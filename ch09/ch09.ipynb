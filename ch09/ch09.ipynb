{
 "cells": [
  {
   "cell_type": "code",
   "execution_count": 1,
   "metadata": {},
   "outputs": [],
   "source": [
    "# 共通で利用するライブラリ\n",
    "import glob\n",
    "import os\n",
    "import datetime\n",
    "import pickle\n",
    "from natsort import natsorted\n",
    "from IPython.display import display\n",
    "import matplotlib.pyplot as plt\n",
    "import pandas as pd\n",
    "import numpy as np\n",
    "import warnings\n",
    "\n",
    "# warnings.filterwarnings('ignore')\n",
    "np.set_printoptions(suppress=True, precision=3)\n",
    "pd.options.display.float_format = \"{:.4f}\".format\n",
    "pd.set_option(\"display.max_columns\", None)\n",
    "plt.style.use(\"seaborn\")\n",
    "plt.rcParams[\"font.size\"] = 14\n",
    "plt.rcParams[\"font.family\"] = \"IPAexGothic\"\n",
    "%matplotlib inline\n",
    "%load_ext autoreload\n",
    "\n",
    "# 追加するライブラリ\n"
   ]
  },
  {
   "cell_type": "markdown",
   "metadata": {},
   "source": [
    "## Ch.09 小規模機械学習システムを作成する\n",
    "\n",
    "- 月次で更新するタイミングで、データを蓄積する\n",
    "- 蓄積されたデータをもとに毎月のモデル構築を行う\n",
    "- データ一覧\n",
    "  - m_area.csv\n",
    "  - m_store.csv\n",
    "  - tbl_order_202004.csv ~ tbl_order_202008.csv\n",
    "  - store_monthly_data.csv\n",
    "  - ml_base_data.csv\n",
    "  - model_y_weekday_GradientBoosting.pickle\n",
    "  - model_y_weekend_GradientBoosting.pickle\n",
    "  - X_cols.csv"
   ]
  },
  {
   "cell_type": "markdown",
   "metadata": {},
   "source": [
    "- フォルダ構成\n",
    "\n",
    "```bash\n",
    "ch09\n",
    "├── ch09.ipynb\n",
    "├── models\n",
    "│   ├── model_y_weekday_GradientBoosting.pickle\n",
    "│   ├── model_y_weekend_GradientBoosting.pickle\n",
    "│   └── X_cols.csv\n",
    "└── data\n",
    "    ├── 00_input\n",
    "    │   └── tbl_order_YYYYMM.csv\n",
    "    ├── 01_store_monthly\n",
    "    │   └── store_monthly_data.csv\n",
    "    ├── 02_ml_base\n",
    "    │   └── ml_base_data.csv\n",
    "    ├── 10_output_ml_result\n",
    "    │   └── results_xxxx\n",
    "    ├── 11_output_report\n",
    "    └── 99_master\n",
    "```"
   ]
  },
  {
   "cell_type": "markdown",
   "metadata": {},
   "source": [
    "### Knock81: フォルダを生成して初期の変数定義を行う"
   ]
  },
  {
   "cell_type": "code",
   "execution_count": 2,
   "metadata": {},
   "outputs": [],
   "source": [
    "# フォルダ作成\n",
    "\n",
    "data_dir = \"data\"\n",
    "\n",
    "input_dir = os.path.join(data_dir, \"00_input\")\n",
    "store_monthly_dir = os.path.join(data_dir, \"01_store_monthly\")\n",
    "ml_base_dir = os.path.join(data_dir, \"02_ml_base\")\n",
    "\n",
    "output_ml_result_dir = os.path.join(data_dir, \"10_output_ml_result\")\n",
    "output_report_dir = os.path.join(data_dir, \"11_output_report\")\n",
    "\n",
    "master_dir = os.path.join(data_dir, \"99_master\")\n",
    "model_dir = \"models\"\n",
    "\n",
    "os.makedirs(input_dir, exist_ok=True)\n",
    "os.makedirs(store_monthly_dir, exist_ok=True)\n",
    "os.makedirs(ml_base_dir, exist_ok=True)\n",
    "os.makedirs(output_ml_result_dir, exist_ok=True)\n",
    "os.makedirs(output_report_dir, exist_ok=True)\n",
    "os.makedirs(master_dir, exist_ok=True)\n",
    "os.makedirs(model_dir, exist_ok=True)"
   ]
  },
  {
   "cell_type": "code",
   "execution_count": null,
   "metadata": {},
   "outputs": [],
   "source": [
    "# 初期変数の定義\n",
    "\n",
    "tg_ym = \"202004\"\n",
    "\n",
    "target_file = \"tbl_order_\" + tg_ym + \".csv\"\n",
    "m_area_file = \"m_area.csv\"\n",
    "m_store_file = \"m_store.csv\"\n",
    "store_monthly_file = \"store_monthly_data.csv\"\n",
    "ml_base_file = \"ml_base_data.csv\"\n"
   ]
  }
 ],
 "metadata": {
  "kernelspec": {
   "display_name": "Python 3.9.13 ('venv': venv)",
   "language": "python",
   "name": "python3"
  },
  "language_info": {
   "codemirror_mode": {
    "name": "ipython",
    "version": 3
   },
   "file_extension": ".py",
   "mimetype": "text/x-python",
   "name": "python",
   "nbconvert_exporter": "python",
   "pygments_lexer": "ipython3",
   "version": "3.9.13"
  },
  "orig_nbformat": 4,
  "vscode": {
   "interpreter": {
    "hash": "e43aefcd945bf2df063e23bad89b41d61ef052b435bb9d3fcd8d202fdfc43e8b"
   }
  }
 },
 "nbformat": 4,
 "nbformat_minor": 2
}
