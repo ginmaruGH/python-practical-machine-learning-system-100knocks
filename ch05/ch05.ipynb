{
 "cells": [
  {
   "cell_type": "code",
   "execution_count": null,
   "metadata": {},
   "outputs": [],
   "source": [
    "# 共通で利用するライブラリ\n",
    "from IPython.display import display\n",
    "import matplotlib.pyplot as plt\n",
    "import pandas as pd\n",
    "import numpy as np\n",
    "import warnings\n",
    "\n",
    "# warnings.filterwarnings('ignore')\n",
    "np.set_printoptions(suppress=True, precision=3)\n",
    "pd.options.display.float_format = \"{:.3f}\".format\n",
    "pd.set_option(\"display.max_columns\", None)\n",
    "plt.style.use(\"seaborn\")\n",
    "plt.rcParams[\"font.size\"] = 14\n",
    "plt.rcParams[\"font.family\"] = \"IPAexGothic\"\n",
    "%matplotlib inline\n",
    "\n",
    "# 追加するライブラリ\n",
    "from natsort import natsorted\n",
    "import glob\n",
    "import os\n"
   ]
  },
  {
   "cell_type": "markdown",
   "metadata": {},
   "source": [
    "## Ch.05 分析システムを構築する"
   ]
  },
  {
   "cell_type": "markdown",
   "metadata": {},
   "source": [
    "データ一覧\n",
    "\n",
    "- m_area.csv\n",
    "  - 地域マスタ\n",
    "  - 都道府県情報等\n",
    "- m_store.csv\n",
    "  - 店舗マスタ\n",
    "  - 店舗名等\n",
    "- tbl_order_202004.csv\n",
    "  - 注文データ\n",
    "  - 4月分\n",
    "- tbl_order_202005.csv\n",
    "  - 注文データ\n",
    "  - 5月分\n",
    "- tbl_order_202006.csv\n",
    "  - 注文データ\n",
    "  - 6月分\n",
    "- tbl_order_202007.csv\n",
    "  - 注文データ\n",
    "  - 7月分"
   ]
  },
  {
   "cell_type": "markdown",
   "metadata": {},
   "source": [
    "### Knock41: 基本的なフォルダを生成する\n",
    "\n",
    "フォルダ構成\n",
    "\n",
    "ch05\n",
    "├── ch05.ipynb\n",
    "├── source\n",
    "└── data\n",
    "    ├── 0_input\n",
    "    ├── 10_output\n",
    "    ├── 99_master\n",
    "    └── race"
   ]
  },
  {
   "cell_type": "code",
   "execution_count": null,
   "metadata": {},
   "outputs": [],
   "source": [
    "# フォルダパスの定義\n",
    "\n",
    "source_dir = \"source\"\n",
    "data_dir = \"data\"\n",
    "input_dir = os.path.join(data_dir, \"0_input\")\n",
    "output_dir = os.path.join(data_dir, \"10_output\")\n",
    "master_dir = os.path.join(data_dir, \"99_master\")\n",
    "print(input_dir)\n"
   ]
  },
  {
   "cell_type": "code",
   "execution_count": null,
   "metadata": {},
   "outputs": [],
   "source": [
    "# フォルダの生成\n",
    "\n",
    "os.makedirs(source_dir, exist_ok=True)\n",
    "os.makedirs(input_dir, exist_ok=True)\n",
    "os.makedirs(output_dir, exist_ok=True)\n",
    "os.makedirs(master_dir, exist_ok=True)"
   ]
  }
 ],
 "metadata": {
  "kernelspec": {
   "display_name": "Python 3.9.13 ('venv': venv)",
   "language": "python",
   "name": "python3"
  },
  "language_info": {
   "name": "python",
   "version": "3.9.13"
  },
  "orig_nbformat": 4,
  "vscode": {
   "interpreter": {
    "hash": "e43aefcd945bf2df063e23bad89b41d61ef052b435bb9d3fcd8d202fdfc43e8b"
   }
  }
 },
 "nbformat": 4,
 "nbformat_minor": 2
}
