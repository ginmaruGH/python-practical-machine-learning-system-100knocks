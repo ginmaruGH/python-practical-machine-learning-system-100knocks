{
 "cells": [
  {
   "cell_type": "code",
   "execution_count": 2,
   "metadata": {},
   "outputs": [],
   "source": [
    "# 共通で利用するライブラリ\n",
    "from IPython.display import display\n",
    "import matplotlib.pyplot as plt\n",
    "import pandas as pd\n",
    "import numpy as np\n",
    "import warnings\n",
    "\n",
    "# warnings.filterwarnings('ignore')\n",
    "np.set_printoptions(suppress=True, precision=3)\n",
    "pd.options.display.float_format = \"{:.3f}\".format\n",
    "pd.set_option(\"display.max_columns\", None)\n",
    "plt.style.use(\"seaborn\")\n",
    "plt.rcParams[\"font.size\"] = 14\n",
    "plt.rcParams[\"font.family\"] = \"IPAexGothic\"\n",
    "%matplotlib inline\n",
    "%load_ext autoreload\n",
    "\n",
    "# 追加するライブラリ\n",
    "from natsort import natsorted\n",
    "import glob\n",
    "import os\n",
    "import datetime\n",
    "\n",
    "%autoreload\n",
    "from source.data_initialization import Initialize as ini\n",
    "from source.calculation import Calc\n",
    "from source.reporting import Reporting\n",
    "from source.make_folder import MakeFolder\n"
   ]
  },
  {
   "cell_type": "markdown",
   "metadata": {},
   "source": [
    "## Ch.05 分析システムを構築する"
   ]
  },
  {
   "cell_type": "markdown",
   "metadata": {},
   "source": [
    "データ一覧\n",
    "\n",
    "- m_area.csv\n",
    "  - 地域マスタ\n",
    "  - 都道府県情報等\n",
    "- m_store.csv\n",
    "  - 店舗マスタ\n",
    "  - 店舗名等\n",
    "- tbl_order_202004.csv\n",
    "  - 注文データ\n",
    "  - 4月分\n",
    "- tbl_order_202005.csv\n",
    "  - 注文データ\n",
    "  - 5月分\n",
    "- tbl_order_202006.csv\n",
    "  - 注文データ\n",
    "  - 6月分\n",
    "- tbl_order_202007.csv\n",
    "  - 注文データ\n",
    "  - 7月分"
   ]
  },
  {
   "cell_type": "markdown",
   "metadata": {},
   "source": [
    "### Knock41: 基本的なフォルダを生成する\n",
    "\n",
    "フォルダ構成\n",
    "\n",
    "```bash\n",
    "ch05\n",
    "├── ch05.ipynb\n",
    "├── source\n",
    "└── data\n",
    "    ├── 0_input\n",
    "    ├── 10_output\n",
    "    ├── 99_master\n",
    "    └── race\n",
    "```"
   ]
  },
  {
   "cell_type": "code",
   "execution_count": 3,
   "metadata": {},
   "outputs": [
    {
     "name": "stdout",
     "output_type": "stream",
     "text": [
      "data/0_input\n"
     ]
    }
   ],
   "source": [
    "# フォルダパスの定義\n",
    "\n",
    "source_dir = \"source\"\n",
    "data_dir = \"data\"\n",
    "input_dir = os.path.join(data_dir, \"0_input\")\n",
    "output_dir = os.path.join(data_dir, \"10_output\")\n",
    "master_dir = os.path.join(data_dir, \"99_master\")\n",
    "print(input_dir)\n"
   ]
  },
  {
   "cell_type": "code",
   "execution_count": 4,
   "metadata": {},
   "outputs": [],
   "source": [
    "# フォルダの生成\n",
    "\n",
    "os.makedirs(source_dir, exist_ok=True)\n",
    "os.makedirs(input_dir, exist_ok=True)\n",
    "os.makedirs(output_dir, exist_ok=True)\n",
    "os.makedirs(master_dir, exist_ok=True)"
   ]
  },
  {
   "cell_type": "markdown",
   "metadata": {},
   "source": [
    "### Knock42: 入力データのチェック機能を作る"
   ]
  },
  {
   "cell_type": "code",
   "execution_count": 5,
   "metadata": {},
   "outputs": [
    {
     "name": "stdout",
     "output_type": "stream",
     "text": [
      "(7, 3)\n"
     ]
    },
    {
     "data": {
      "text/html": [
       "<div>\n",
       "<style scoped>\n",
       "    .dataframe tbody tr th:only-of-type {\n",
       "        vertical-align: middle;\n",
       "    }\n",
       "\n",
       "    .dataframe tbody tr th {\n",
       "        vertical-align: top;\n",
       "    }\n",
       "\n",
       "    .dataframe thead th {\n",
       "        text-align: right;\n",
       "    }\n",
       "</style>\n",
       "<table border=\"1\" class=\"dataframe\">\n",
       "  <thead>\n",
       "    <tr style=\"text-align: right;\">\n",
       "      <th></th>\n",
       "      <th>area_cd</th>\n",
       "      <th>wide_area</th>\n",
       "      <th>narrow_area</th>\n",
       "    </tr>\n",
       "  </thead>\n",
       "  <tbody>\n",
       "    <tr>\n",
       "      <th>0</th>\n",
       "      <td>TK</td>\n",
       "      <td>東京</td>\n",
       "      <td>東京</td>\n",
       "    </tr>\n",
       "    <tr>\n",
       "      <th>1</th>\n",
       "      <td>KN</td>\n",
       "      <td>神奈川</td>\n",
       "      <td>神奈川</td>\n",
       "    </tr>\n",
       "    <tr>\n",
       "      <th>2</th>\n",
       "      <td>CH</td>\n",
       "      <td>千葉</td>\n",
       "      <td>千葉</td>\n",
       "    </tr>\n",
       "    <tr>\n",
       "      <th>3</th>\n",
       "      <td>SA</td>\n",
       "      <td>埼玉</td>\n",
       "      <td>埼玉</td>\n",
       "    </tr>\n",
       "    <tr>\n",
       "      <th>4</th>\n",
       "      <td>IB</td>\n",
       "      <td>北関東</td>\n",
       "      <td>茨城</td>\n",
       "    </tr>\n",
       "    <tr>\n",
       "      <th>5</th>\n",
       "      <td>TO</td>\n",
       "      <td>北関東</td>\n",
       "      <td>栃木</td>\n",
       "    </tr>\n",
       "    <tr>\n",
       "      <th>6</th>\n",
       "      <td>GU</td>\n",
       "      <td>北関東</td>\n",
       "      <td>群馬</td>\n",
       "    </tr>\n",
       "  </tbody>\n",
       "</table>\n",
       "</div>"
      ],
      "text/plain": [
       "  area_cd wide_area narrow_area\n",
       "0      TK        東京          東京\n",
       "1      KN       神奈川         神奈川\n",
       "2      CH        千葉          千葉\n",
       "3      SA        埼玉          埼玉\n",
       "4      IB       北関東          茨城\n",
       "5      TO       北関東          栃木\n",
       "6      GU       北関東          群馬"
      ]
     },
     "metadata": {},
     "output_type": "display_data"
    }
   ],
   "source": [
    "# マスタデータの読み込み\n",
    "\n",
    "m_area_file = \"m_area.csv\"\n",
    "m_store_file = \"m_store.csv\"\n",
    "m_area = pd.read_csv(os.path.join(master_dir, m_area_file))\n",
    "m_store = pd.read_csv(os.path.join(master_dir, m_store_file))\n",
    "print(m_area.shape)\n",
    "display(m_area)"
   ]
  },
  {
   "cell_type": "code",
   "execution_count": 6,
   "metadata": {},
   "outputs": [],
   "source": [
    "# 指定した注文データ読み込み\n",
    "\n",
    "target_year_month = \"202007\"\n",
    "# TARGET_YEAR_MONTH = \"202007\"\n",
    "target_file = \"tbl_order_\" + target_year_month + \".csv\"\n",
    "target_data = pd.read_csv(os.path.join(input_dir, target_file))"
   ]
  },
  {
   "cell_type": "code",
   "execution_count": 7,
   "metadata": {},
   "outputs": [
    {
     "name": "stdout",
     "output_type": "stream",
     "text": [
      "OK! 日付が一致しました。\n"
     ]
    }
   ],
   "source": [
    "# データチェック機構（正常動作時）\n",
    "\n",
    "max_date = pd.to_datetime(target_data[\"order_accept_date\"]).max()\n",
    "min_date = pd.to_datetime(target_data[\"order_accept_date\"]).min()\n",
    "max_str_date = max_date.strftime(\"%Y%m\")\n",
    "min_str_date = min_date.strftime(\"%Y%m\")\n",
    "\n",
    "if (target_year_month == min_str_date) & (target_year_month == max_str_date):\n",
    "    print(\"OK! 日付が一致しました。\")\n",
    "else:\n",
    "    raise print(\"ERROR!! 日付が一致しません。\")"
   ]
  },
  {
   "cell_type": "code",
   "execution_count": 8,
   "metadata": {},
   "outputs": [],
   "source": [
    "# 当月分の初期化\n",
    "\n",
    "target_data = ini.init_tran_df(target_data, m_store, m_area)\n"
   ]
  },
  {
   "cell_type": "markdown",
   "metadata": {},
   "source": [
    "### Knock43: レポーティング（本部向け）を関数化する"
   ]
  },
  {
   "cell_type": "markdown",
   "metadata": {},
   "source": [
    "### Knock44: レポーティング（店舗向け）を関数化する"
   ]
  },
  {
   "cell_type": "markdown",
   "metadata": {},
   "source": [
    "### Knock45: 関数を実行して動作を確認する"
   ]
  },
  {
   "cell_type": "code",
   "execution_count": 9,
   "metadata": {},
   "outputs": [],
   "source": [
    "# 本部向けレポート\n",
    "\n",
    "# Reporting.make_report_headquarters(target_data, max_str_date, m_store, output_dir)"
   ]
  },
  {
   "cell_type": "code",
   "execution_count": 10,
   "metadata": {},
   "outputs": [],
   "source": [
    "# 店舗向けレポート\n",
    "\n",
    "# for store_id in m_store.loc[m_store[\"store_id\"] != 999][\"store_id\"]:\n",
    "#     Reporting.make_report_store(\n",
    "#         target_data, store_id, m_store, max_str_date, output_dir\n",
    "#     )\n"
   ]
  },
  {
   "cell_type": "markdown",
   "metadata": {},
   "source": [
    "### Knock46: 更新に対応できる出力フォルダを作成する"
   ]
  },
  {
   "cell_type": "code",
   "execution_count": 11,
   "metadata": {},
   "outputs": [
    {
     "name": "stdout",
     "output_type": "stream",
     "text": [
      "data/10_output/202007_20220902_082730\n"
     ]
    }
   ],
   "source": [
    "# 新たな出力フォルダの作成\n",
    "\n",
    "# target_output_dir = MakeFolder.make_active_folder(output_dir, target_year_month)\n",
    "# data/10_output/202007_20220902_082730\n",
    "target_output_dir = \"data/10_output/202007_20220902_082730\"\n"
   ]
  },
  {
   "cell_type": "markdown",
   "metadata": {},
   "source": [
    "### Knock47: 都道府県別に出力できるように出力フォルダを拡張してデータを出力する"
   ]
  },
  {
   "cell_type": "code",
   "execution_count": 12,
   "metadata": {},
   "outputs": [],
   "source": [
    "# 新しいフォルダに本部向けレポートを保存する\n",
    "\n",
    "Reporting.make_report_headquarters(\n",
    "    target_data, max_str_date, m_store, target_output_dir)\n"
   ]
  },
  {
   "cell_type": "code",
   "execution_count": 28,
   "metadata": {},
   "outputs": [],
   "source": [
    "# 都道府県ごとにフォルダを動的に生成する\n",
    "# 各店舗向けレポート\n",
    "# data/10_output/YYYYMM_YYYYMMDD_HHMMDDSS（更新日時）/narrow_area/\n",
    "\n",
    "for store_id in m_store.loc[m_store[\"store_id\"] != 999][\"store_id\"]:\n",
    "    # narrow_areaのフォルダを作成する\n",
    "    area_cd = m_store.loc[m_store[\"store_id\"] == store_id][\"area_cd\"]\n",
    "    area_name = m_area.loc[m_area[\"area_cd\"] == area_cd.values[0]][\"narrow_area\"].values[0]\n",
    "    target_store_output_dir = os.path.join(target_output_dir, area_name)\n",
    "    os.makedirs(target_store_output_dir,exist_ok=True)\n",
    "    Reporting.make_report_store(\n",
    "        target_data, store_id, m_store, max_str_date, target_store_output_dir\n",
    "    )\n",
    "# 5m"
   ]
  },
  {
   "cell_type": "markdown",
   "metadata": {},
   "source": [
    "### Knock48: 前月のデータを動的に読み込む"
   ]
  }
 ],
 "metadata": {
  "kernelspec": {
   "display_name": "Python 3.9.13 ('venv': venv)",
   "language": "python",
   "name": "python3"
  },
  "language_info": {
   "codemirror_mode": {
    "name": "ipython",
    "version": 3
   },
   "file_extension": ".py",
   "mimetype": "text/x-python",
   "name": "python",
   "nbconvert_exporter": "python",
   "pygments_lexer": "ipython3",
   "version": "3.9.13"
  },
  "orig_nbformat": 4,
  "vscode": {
   "interpreter": {
    "hash": "e43aefcd945bf2df063e23bad89b41d61ef052b435bb9d3fcd8d202fdfc43e8b"
   }
  }
 },
 "nbformat": 4,
 "nbformat_minor": 2
}
