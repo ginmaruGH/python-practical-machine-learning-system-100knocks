{
 "cells": [
  {
   "cell_type": "code",
   "execution_count": 41,
   "metadata": {},
   "outputs": [
    {
     "name": "stdout",
     "output_type": "stream",
     "text": [
      "The autoreload extension is already loaded. To reload it, use:\n",
      "  %reload_ext autoreload\n"
     ]
    }
   ],
   "source": [
    "# 共通で利用するライブラリ\n",
    "from IPython.display import display, clear_output\n",
    "import matplotlib.pyplot as plt\n",
    "import pandas as pd\n",
    "import numpy as np\n",
    "import warnings\n",
    "\n",
    "# warnings.filterwarnings('ignore')\n",
    "np.set_printoptions(suppress=True, precision=3)\n",
    "pd.options.display.float_format = \"{:.3f}\".format\n",
    "pd.set_option(\"display.max_columns\", None)\n",
    "plt.style.use(\"seaborn\")\n",
    "plt.rcParams[\"font.size\"] = 14\n",
    "plt.rcParams[\"font.family\"] = \"IPAexGothic\"\n",
    "%matplotlib inline\n",
    "%load_ext autoreload\n",
    "\n",
    "# 追加するライブラリ\n",
    "from natsort import natsorted\n",
    "import glob\n",
    "import os\n",
    "import datetime\n",
    "from ipywidgets import DatePicker\n",
    "\n",
    "%autoreload\n",
    "from source.data_initialization import Initialize as ini\n",
    "from source.calculation import Calc\n",
    "from source.reporting import Reporting\n",
    "from source.make_folder import MakeFolder\n"
   ]
  },
  {
   "cell_type": "markdown",
   "metadata": {},
   "source": [
    "## Ch.05 分析システムを構築する"
   ]
  },
  {
   "cell_type": "markdown",
   "metadata": {},
   "source": [
    "データ一覧\n",
    "\n",
    "- m_area.csv\n",
    "  - 地域マスタ\n",
    "  - 都道府県情報等\n",
    "- m_store.csv\n",
    "  - 店舗マスタ\n",
    "  - 店舗名等\n",
    "- tbl_order_202004.csv\n",
    "  - 注文データ\n",
    "  - 4月分\n",
    "- tbl_order_202005.csv\n",
    "  - 注文データ\n",
    "  - 5月分\n",
    "- tbl_order_202006.csv\n",
    "  - 注文データ\n",
    "  - 6月分\n",
    "- tbl_order_202007.csv\n",
    "  - 注文データ\n",
    "  - 7月分"
   ]
  },
  {
   "cell_type": "markdown",
   "metadata": {},
   "source": [
    "### Knock41: 基本的なフォルダを生成する\n",
    "\n",
    "フォルダ構成\n",
    "\n",
    "```bash\n",
    "ch05\n",
    "├── ch05.ipynb\n",
    "├── source\n",
    "└── data\n",
    "    ├── 0_input\n",
    "    ├── 10_output\n",
    "    ├── 99_master\n",
    "    └── race\n",
    "```"
   ]
  },
  {
   "cell_type": "code",
   "execution_count": 25,
   "metadata": {},
   "outputs": [
    {
     "name": "stdout",
     "output_type": "stream",
     "text": [
      "data/0_input\n"
     ]
    }
   ],
   "source": [
    "# フォルダパスの定義\n",
    "\n",
    "source_dir = \"source\"\n",
    "data_dir = \"data\"\n",
    "input_dir = os.path.join(data_dir, \"0_input\")\n",
    "output_dir = os.path.join(data_dir, \"10_output\")\n",
    "master_dir = os.path.join(data_dir, \"99_master\")\n",
    "print(input_dir)\n"
   ]
  },
  {
   "cell_type": "code",
   "execution_count": 26,
   "metadata": {},
   "outputs": [],
   "source": [
    "# フォルダの生成\n",
    "\n",
    "os.makedirs(source_dir, exist_ok=True)\n",
    "os.makedirs(input_dir, exist_ok=True)\n",
    "os.makedirs(output_dir, exist_ok=True)\n",
    "os.makedirs(master_dir, exist_ok=True)"
   ]
  },
  {
   "cell_type": "markdown",
   "metadata": {},
   "source": [
    "### Knock42: 入力データのチェック機能を作る"
   ]
  },
  {
   "cell_type": "code",
   "execution_count": 27,
   "metadata": {},
   "outputs": [
    {
     "name": "stdout",
     "output_type": "stream",
     "text": [
      "(7, 3)\n"
     ]
    },
    {
     "data": {
      "text/html": [
       "<div>\n",
       "<style scoped>\n",
       "    .dataframe tbody tr th:only-of-type {\n",
       "        vertical-align: middle;\n",
       "    }\n",
       "\n",
       "    .dataframe tbody tr th {\n",
       "        vertical-align: top;\n",
       "    }\n",
       "\n",
       "    .dataframe thead th {\n",
       "        text-align: right;\n",
       "    }\n",
       "</style>\n",
       "<table border=\"1\" class=\"dataframe\">\n",
       "  <thead>\n",
       "    <tr style=\"text-align: right;\">\n",
       "      <th></th>\n",
       "      <th>area_cd</th>\n",
       "      <th>wide_area</th>\n",
       "      <th>narrow_area</th>\n",
       "    </tr>\n",
       "  </thead>\n",
       "  <tbody>\n",
       "    <tr>\n",
       "      <th>0</th>\n",
       "      <td>TK</td>\n",
       "      <td>東京</td>\n",
       "      <td>東京</td>\n",
       "    </tr>\n",
       "    <tr>\n",
       "      <th>1</th>\n",
       "      <td>KN</td>\n",
       "      <td>神奈川</td>\n",
       "      <td>神奈川</td>\n",
       "    </tr>\n",
       "    <tr>\n",
       "      <th>2</th>\n",
       "      <td>CH</td>\n",
       "      <td>千葉</td>\n",
       "      <td>千葉</td>\n",
       "    </tr>\n",
       "    <tr>\n",
       "      <th>3</th>\n",
       "      <td>SA</td>\n",
       "      <td>埼玉</td>\n",
       "      <td>埼玉</td>\n",
       "    </tr>\n",
       "    <tr>\n",
       "      <th>4</th>\n",
       "      <td>IB</td>\n",
       "      <td>北関東</td>\n",
       "      <td>茨城</td>\n",
       "    </tr>\n",
       "    <tr>\n",
       "      <th>5</th>\n",
       "      <td>TO</td>\n",
       "      <td>北関東</td>\n",
       "      <td>栃木</td>\n",
       "    </tr>\n",
       "    <tr>\n",
       "      <th>6</th>\n",
       "      <td>GU</td>\n",
       "      <td>北関東</td>\n",
       "      <td>群馬</td>\n",
       "    </tr>\n",
       "  </tbody>\n",
       "</table>\n",
       "</div>"
      ],
      "text/plain": [
       "  area_cd wide_area narrow_area\n",
       "0      TK        東京          東京\n",
       "1      KN       神奈川         神奈川\n",
       "2      CH        千葉          千葉\n",
       "3      SA        埼玉          埼玉\n",
       "4      IB       北関東          茨城\n",
       "5      TO       北関東          栃木\n",
       "6      GU       北関東          群馬"
      ]
     },
     "metadata": {},
     "output_type": "display_data"
    }
   ],
   "source": [
    "# マスタデータの読み込み\n",
    "\n",
    "m_area_file = \"m_area.csv\"\n",
    "m_store_file = \"m_store.csv\"\n",
    "m_area = pd.read_csv(os.path.join(master_dir, m_area_file))\n",
    "m_store = pd.read_csv(os.path.join(master_dir, m_store_file))\n",
    "print(m_area.shape)\n",
    "display(m_area)"
   ]
  },
  {
   "cell_type": "code",
   "execution_count": 28,
   "metadata": {},
   "outputs": [],
   "source": [
    "# 指定した注文データ読み込み\n",
    "\n",
    "target_year_month = \"202007\"\n",
    "# TARGET_YEAR_MONTH = \"202007\"\n",
    "target_file = \"tbl_order_\" + target_year_month + \".csv\"\n",
    "target_data = pd.read_csv(os.path.join(input_dir, target_file))"
   ]
  },
  {
   "cell_type": "code",
   "execution_count": 29,
   "metadata": {},
   "outputs": [
    {
     "name": "stdout",
     "output_type": "stream",
     "text": [
      "OK! 日付が一致しました。\n"
     ]
    }
   ],
   "source": [
    "# データチェック機構（正常動作時）\n",
    "\n",
    "max_date = pd.to_datetime(target_data[\"order_accept_date\"]).max()\n",
    "min_date = pd.to_datetime(target_data[\"order_accept_date\"]).min()\n",
    "max_str_date = max_date.strftime(\"%Y%m\")\n",
    "min_str_date = min_date.strftime(\"%Y%m\")\n",
    "\n",
    "if (target_year_month == min_str_date) & (target_year_month == max_str_date):\n",
    "    print(\"OK! 日付が一致しました。\")\n",
    "else:\n",
    "    raise print(\"ERROR!! 日付が一致しません。\")"
   ]
  },
  {
   "cell_type": "code",
   "execution_count": 30,
   "metadata": {},
   "outputs": [],
   "source": [
    "# 当月分の初期化\n",
    "\n",
    "target_data = ini.init_tran_df(target_data, m_store, m_area)\n"
   ]
  },
  {
   "cell_type": "markdown",
   "metadata": {},
   "source": [
    "### Knock43: レポーティング（本部向け）を関数化する"
   ]
  },
  {
   "cell_type": "markdown",
   "metadata": {},
   "source": [
    "### Knock44: レポーティング（店舗向け）を関数化する"
   ]
  },
  {
   "cell_type": "markdown",
   "metadata": {},
   "source": [
    "### Knock45: 関数を実行して動作を確認する"
   ]
  },
  {
   "cell_type": "code",
   "execution_count": 31,
   "metadata": {},
   "outputs": [],
   "source": [
    "# 本部向けレポート\n",
    "\n",
    "# Reporting.make_report_headquarters(target_data, max_str_date, m_store, output_dir)"
   ]
  },
  {
   "cell_type": "code",
   "execution_count": 32,
   "metadata": {},
   "outputs": [],
   "source": [
    "# 店舗向けレポート\n",
    "\n",
    "# for store_id in m_store.loc[m_store[\"store_id\"] != 999][\"store_id\"]:\n",
    "#     Reporting.make_report_store(\n",
    "#         target_data, store_id, m_store, max_str_date, output_dir\n",
    "#     )\n"
   ]
  },
  {
   "cell_type": "markdown",
   "metadata": {},
   "source": [
    "### Knock46: 更新に対応できる出力フォルダを作成する"
   ]
  },
  {
   "cell_type": "code",
   "execution_count": 33,
   "metadata": {},
   "outputs": [],
   "source": [
    "# 新たな出力フォルダの作成\n",
    "\n",
    "# target_output_dir = MakeFolder.make_active_folder(output_dir, target_year_month)\n",
    "# data/10_output/202007_20220902_082730\n",
    "target_output_dir = \"data/10_output/202007_20220902_082730\"\n"
   ]
  },
  {
   "cell_type": "markdown",
   "metadata": {},
   "source": [
    "### Knock47: 都道府県別に出力できるように出力フォルダを拡張してデータを出力する"
   ]
  },
  {
   "cell_type": "code",
   "execution_count": 34,
   "metadata": {},
   "outputs": [],
   "source": [
    "# 新しいフォルダに本部向けレポートを保存する\n",
    "\n",
    "Reporting.make_report_headquarters(\n",
    "    target_data, max_str_date, m_store, target_output_dir)\n"
   ]
  },
  {
   "cell_type": "code",
   "execution_count": 35,
   "metadata": {},
   "outputs": [],
   "source": [
    "# 都道府県ごとにフォルダを動的に生成する\n",
    "# 各店舗向けレポート\n",
    "# data/10_output/YYYYMM_YYYYMMDD_HHMMDDSS（更新日時）/narrow_area/\n",
    "\n",
    "for store_id in m_store.loc[m_store[\"store_id\"] != 999][\"store_id\"]:\n",
    "    # narrow_areaのフォルダを作成する\n",
    "    area_cd = m_store.loc[m_store[\"store_id\"] == store_id][\"area_cd\"]\n",
    "    area_name = m_area.loc[m_area[\"area_cd\"] == area_cd.values[0]][\"narrow_area\"].values[0]\n",
    "    target_store_output_dir = os.path.join(target_output_dir, area_name)\n",
    "    os.makedirs(target_store_output_dir,exist_ok=True)\n",
    "    Reporting.make_report_store(\n",
    "        target_data, store_id, m_store, max_str_date, target_store_output_dir\n",
    "    )\n",
    "# 5m"
   ]
  },
  {
   "cell_type": "markdown",
   "metadata": {},
   "source": [
    "### Knock48: 前月のデータを動的に読み込む"
   ]
  },
  {
   "cell_type": "markdown",
   "metadata": {},
   "source": [
    "### Knock49: 実行して過去のデータとの比較する"
   ]
  },
  {
   "cell_type": "code",
   "execution_count": 36,
   "metadata": {},
   "outputs": [],
   "source": [
    "# 指定した年月データから自動的に1ヶ月前のデータを配列に格納する処理\n",
    "\n",
    "target_year_month_old = str(int(target_year_month) - 1)\n",
    "target_file = \"tbl_order_\" + target_year_month_old + \".csv\"\n",
    "target_data_old = pd.read_csv(os.path.join(input_dir, target_file))\n",
    "\n",
    "# 過去分の初期化\n",
    "target_data_old = ini.init_tran_df(target_data_old, m_store, m_area)\n",
    "\n",
    "df_array = [target_data, target_data_old]\n"
   ]
  },
  {
   "cell_type": "code",
   "execution_count": 37,
   "metadata": {},
   "outputs": [
    {
     "name": "stdout",
     "output_type": "stream",
     "text": [
      "data/10_output\n",
      "202007\n"
     ]
    }
   ],
   "source": [
    "print(output_dir)\n",
    "print(target_year_month)\n"
   ]
  },
  {
   "cell_type": "code",
   "execution_count": 38,
   "metadata": {},
   "outputs": [
    {
     "name": "stdout",
     "output_type": "stream",
     "text": [
      "data/10_output/202007_20220919_072917\n"
     ]
    }
   ],
   "source": [
    "# 本部向けレポート（過去年月対応）関数を呼ぶ\n",
    "\n",
    "# フォルダの動的生成\n",
    "target_output_dir = MakeFolder.make_active_folder(\n",
    "    output_dir, target_year_month\n",
    ")\n",
    "\n",
    "# 本部向けレポートR2を呼ぶ\n",
    "Reporting.make_report_headquarters_r2(df_array, m_store, target_output_dir)\n"
   ]
  },
  {
   "cell_type": "code",
   "execution_count": 40,
   "metadata": {},
   "outputs": [],
   "source": [
    "# 各店舗向けレポート\n",
    "# 全店舗実施\n",
    "\n",
    "for store_id in m_store.loc[m_store[\"store_id\"] != 999][\"store_id\"]:\n",
    "    # narrow_areaフォルダを作成\n",
    "    area_cd = m_store.loc[m_store[\"store_id\"] == store_id][\"area_cd\"]\n",
    "    area_name = m_area.loc[m_area[\"area_cd\"] == area_cd.values[0]][\"narrow_area\"].values[0]\n",
    "    target_store_output_dir = os.path.join(target_output_dir, area_name)\n",
    "    os.makedirs(target_store_output_dir, exist_ok=True)\n",
    "    Reporting.make_report_store_r2(df_array, m_store, store_id, target_store_output_dir)\n",
    "\n",
    "# 13m"
   ]
  },
  {
   "cell_type": "markdown",
   "metadata": {},
   "source": [
    "### Knock50: 画面から実行できるようにする"
   ]
  },
  {
   "cell_type": "code",
   "execution_count": 59,
   "metadata": {},
   "outputs": [
    {
     "data": {
      "application/vnd.jupyter.widget-view+json": {
       "model_id": "e0c88063363442f4870695a5ffefd665",
       "version_major": 2,
       "version_minor": 0
      },
      "text/plain": [
       "DatePicker(value=datetime.date(2020, 4, 9), step=1)"
      ]
     },
     "metadata": {},
     "output_type": "display_data"
    },
    {
     "name": "stdout",
     "output_type": "stream",
     "text": [
      "データ確認、データ準備開始・・・\n",
      "data/10_output/202004_20220919_130036\n"
     ]
    },
    {
     "ename": "KeyError",
     "evalue": "'store_id'",
     "output_type": "error",
     "traceback": [
      "\u001b[0;31m---------------------------------------------------------------------------\u001b[0m",
      "\u001b[0;31mKeyError\u001b[0m                                  Traceback (most recent call last)",
      "File \u001b[0;32m~/Library/CloudStorage/OneDrive-個人用/Learn/Python/python-practical-machine-learning-system-100knocks/venv/lib/python3.9/site-packages/ipywidgets/widgets/widget.py:707\u001b[0m, in \u001b[0;36mWidget._handle_msg\u001b[0;34m(self, msg)\u001b[0m\n\u001b[1;32m    705\u001b[0m         \u001b[39mif\u001b[39;00m \u001b[39m'\u001b[39m\u001b[39mbuffer_paths\u001b[39m\u001b[39m'\u001b[39m \u001b[39min\u001b[39;00m data:\n\u001b[1;32m    706\u001b[0m             _put_buffers(state, data[\u001b[39m'\u001b[39m\u001b[39mbuffer_paths\u001b[39m\u001b[39m'\u001b[39m], msg[\u001b[39m'\u001b[39m\u001b[39mbuffers\u001b[39m\u001b[39m'\u001b[39m])\n\u001b[0;32m--> 707\u001b[0m         \u001b[39mself\u001b[39;49m\u001b[39m.\u001b[39;49mset_state(state)\n\u001b[1;32m    709\u001b[0m \u001b[39m# Handle a state request.\u001b[39;00m\n\u001b[1;32m    710\u001b[0m \u001b[39melif\u001b[39;00m method \u001b[39m==\u001b[39m \u001b[39m'\u001b[39m\u001b[39mrequest_state\u001b[39m\u001b[39m'\u001b[39m:\n",
      "File \u001b[0;32m~/Library/CloudStorage/OneDrive-個人用/Learn/Python/python-practical-machine-learning-system-100knocks/venv/lib/python3.9/site-packages/ipywidgets/widgets/widget.py:589\u001b[0m, in \u001b[0;36mWidget.set_state\u001b[0;34m(self, sync_data)\u001b[0m\n\u001b[1;32m    586\u001b[0m \u001b[39mif\u001b[39;00m name \u001b[39min\u001b[39;00m \u001b[39mself\u001b[39m\u001b[39m.\u001b[39mkeys:\n\u001b[1;32m    587\u001b[0m     from_json \u001b[39m=\u001b[39m \u001b[39mself\u001b[39m\u001b[39m.\u001b[39mtrait_metadata(name, \u001b[39m'\u001b[39m\u001b[39mfrom_json\u001b[39m\u001b[39m'\u001b[39m,\n\u001b[1;32m    588\u001b[0m                                     \u001b[39mself\u001b[39m\u001b[39m.\u001b[39m_trait_from_json)\n\u001b[0;32m--> 589\u001b[0m     \u001b[39mself\u001b[39m\u001b[39m.\u001b[39mset_trait(name, from_json(sync_data[name], \u001b[39mself\u001b[39m))\n",
      "File \u001b[0;32m/usr/local/Cellar/python@3.9/3.9.13_1/Frameworks/Python.framework/Versions/3.9/lib/python3.9/contextlib.py:126\u001b[0m, in \u001b[0;36m_GeneratorContextManager.__exit__\u001b[0;34m(self, typ, value, traceback)\u001b[0m\n\u001b[1;32m    124\u001b[0m \u001b[39mif\u001b[39;00m typ \u001b[39mis\u001b[39;00m \u001b[39mNone\u001b[39;00m:\n\u001b[1;32m    125\u001b[0m     \u001b[39mtry\u001b[39;00m:\n\u001b[0;32m--> 126\u001b[0m         \u001b[39mnext\u001b[39;49m(\u001b[39mself\u001b[39;49m\u001b[39m.\u001b[39;49mgen)\n\u001b[1;32m    127\u001b[0m     \u001b[39mexcept\u001b[39;00m \u001b[39mStopIteration\u001b[39;00m:\n\u001b[1;32m    128\u001b[0m         \u001b[39mreturn\u001b[39;00m \u001b[39mFalse\u001b[39;00m\n",
      "File \u001b[0;32m~/Library/CloudStorage/OneDrive-個人用/Learn/Python/python-practical-machine-learning-system-100knocks/venv/lib/python3.9/site-packages/traitlets/traitlets.py:1371\u001b[0m, in \u001b[0;36mHasTraits.hold_trait_notifications\u001b[0;34m(self)\u001b[0m\n\u001b[1;32m   1369\u001b[0m \u001b[39mfor\u001b[39;00m changes \u001b[39min\u001b[39;00m cache\u001b[39m.\u001b[39mvalues():\n\u001b[1;32m   1370\u001b[0m     \u001b[39mfor\u001b[39;00m change \u001b[39min\u001b[39;00m changes:\n\u001b[0;32m-> 1371\u001b[0m         \u001b[39mself\u001b[39;49m\u001b[39m.\u001b[39;49mnotify_change(change)\n",
      "File \u001b[0;32m~/Library/CloudStorage/OneDrive-個人用/Learn/Python/python-practical-machine-learning-system-100knocks/venv/lib/python3.9/site-packages/ipywidgets/widgets/widget.py:635\u001b[0m, in \u001b[0;36mWidget.notify_change\u001b[0;34m(self, change)\u001b[0m\n\u001b[1;32m    632\u001b[0m     \u001b[39mif\u001b[39;00m name \u001b[39min\u001b[39;00m \u001b[39mself\u001b[39m\u001b[39m.\u001b[39mkeys \u001b[39mand\u001b[39;00m \u001b[39mself\u001b[39m\u001b[39m.\u001b[39m_should_send_property(name, \u001b[39mgetattr\u001b[39m(\u001b[39mself\u001b[39m, name)):\n\u001b[1;32m    633\u001b[0m         \u001b[39m# Send new state to front-end\u001b[39;00m\n\u001b[1;32m    634\u001b[0m         \u001b[39mself\u001b[39m\u001b[39m.\u001b[39msend_state(key\u001b[39m=\u001b[39mname)\n\u001b[0;32m--> 635\u001b[0m \u001b[39msuper\u001b[39;49m()\u001b[39m.\u001b[39;49mnotify_change(change)\n",
      "File \u001b[0;32m~/Library/CloudStorage/OneDrive-個人用/Learn/Python/python-practical-machine-learning-system-100knocks/venv/lib/python3.9/site-packages/traitlets/traitlets.py:1386\u001b[0m, in \u001b[0;36mHasTraits.notify_change\u001b[0;34m(self, change)\u001b[0m\n\u001b[1;32m   1384\u001b[0m \u001b[39mdef\u001b[39;00m \u001b[39mnotify_change\u001b[39m(\u001b[39mself\u001b[39m, change):\n\u001b[1;32m   1385\u001b[0m     \u001b[39m\"\"\"Notify observers of a change event\"\"\"\u001b[39;00m\n\u001b[0;32m-> 1386\u001b[0m     \u001b[39mreturn\u001b[39;00m \u001b[39mself\u001b[39;49m\u001b[39m.\u001b[39;49m_notify_observers(change)\n",
      "File \u001b[0;32m~/Library/CloudStorage/OneDrive-個人用/Learn/Python/python-practical-machine-learning-system-100knocks/venv/lib/python3.9/site-packages/traitlets/traitlets.py:1431\u001b[0m, in \u001b[0;36mHasTraits._notify_observers\u001b[0;34m(self, event)\u001b[0m\n\u001b[1;32m   1428\u001b[0m \u001b[39melif\u001b[39;00m \u001b[39misinstance\u001b[39m(c, EventHandler) \u001b[39mand\u001b[39;00m c\u001b[39m.\u001b[39mname \u001b[39mis\u001b[39;00m \u001b[39mnot\u001b[39;00m \u001b[39mNone\u001b[39;00m:\n\u001b[1;32m   1429\u001b[0m     c \u001b[39m=\u001b[39m \u001b[39mgetattr\u001b[39m(\u001b[39mself\u001b[39m, c\u001b[39m.\u001b[39mname)\n\u001b[0;32m-> 1431\u001b[0m c(event)\n",
      "\u001b[1;32mセル29 を /Users/takeru/Library/CloudStorage/OneDrive-個人用/Learn/Python/python-practical-machine-learning-system-100knocks/ch05/ch05.ipynb\u001b[0m in \u001b[0;36morder_by_date\u001b[0;34m(val)\u001b[0m\n\u001b[1;32m     <a href='vscode-notebook-cell:/Users/takeru/Library/CloudStorage/OneDrive-%E5%80%8B%E4%BA%BA%E7%94%A8/Learn/Python/python-practical-machine-learning-system-100knocks/ch05/ch05.ipynb#X40sZmlsZQ%3D%3D?line=24'>25</a>\u001b[0m \u001b[39melse\u001b[39;00m:\n\u001b[1;32m     <a href='vscode-notebook-cell:/Users/takeru/Library/CloudStorage/OneDrive-%E5%80%8B%E4%BA%BA%E7%94%A8/Learn/Python/python-practical-machine-learning-system-100knocks/ch05/ch05.ipynb#X40sZmlsZQ%3D%3D?line=25'>26</a>\u001b[0m     \u001b[39m# データの読み込み\u001b[39;00m\n\u001b[1;32m     <a href='vscode-notebook-cell:/Users/takeru/Library/CloudStorage/OneDrive-%E5%80%8B%E4%BA%BA%E7%94%A8/Learn/Python/python-practical-machine-learning-system-100knocks/ch05/ch05.ipynb#X40sZmlsZQ%3D%3D?line=26'>27</a>\u001b[0m     df \u001b[39m=\u001b[39m pd\u001b[39m.\u001b[39mread_csv(os\u001b[39m.\u001b[39mpath\u001b[39m.\u001b[39mjoin(input_dir, target_file))\n\u001b[0;32m---> <a href='vscode-notebook-cell:/Users/takeru/Library/CloudStorage/OneDrive-%E5%80%8B%E4%BA%BA%E7%94%A8/Learn/Python/python-practical-machine-learning-system-100knocks/ch05/ch05.ipynb#X40sZmlsZQ%3D%3D?line=27'>28</a>\u001b[0m     df \u001b[39m=\u001b[39m ini\u001b[39m.\u001b[39;49minit_tran_df(df, m_area, m_area)\n\u001b[1;32m     <a href='vscode-notebook-cell:/Users/takeru/Library/CloudStorage/OneDrive-%E5%80%8B%E4%BA%BA%E7%94%A8/Learn/Python/python-practical-machine-learning-system-100knocks/ch05/ch05.ipynb#X40sZmlsZQ%3D%3D?line=28'>29</a>\u001b[0m     df_array\u001b[39m.\u001b[39mappend(df)\n\u001b[1;32m     <a href='vscode-notebook-cell:/Users/takeru/Library/CloudStorage/OneDrive-%E5%80%8B%E4%BA%BA%E7%94%A8/Learn/Python/python-practical-machine-learning-system-100knocks/ch05/ch05.ipynb#X40sZmlsZQ%3D%3D?line=30'>31</a>\u001b[0m \u001b[39m# 選択された基準月の1ヶ月前があるか確認する\u001b[39;00m\n",
      "File \u001b[0;32m~/Library/CloudStorage/OneDrive-個人用/Learn/Python/python-practical-machine-learning-system-100knocks/ch05/source/data_initialization.py:28\u001b[0m, in \u001b[0;36mInitialize.init_tran_df\u001b[0;34m(target_df, m_store, m_area)\u001b[0m\n\u001b[1;32m     25\u001b[0m target_df \u001b[39m=\u001b[39m target_df\u001b[39m.\u001b[39mloc[target_df[\u001b[39m\"\u001b[39m\u001b[39mstore_id\u001b[39m\u001b[39m\"\u001b[39m] \u001b[39m!=\u001b[39m \u001b[39m999\u001b[39m]\n\u001b[1;32m     27\u001b[0m \u001b[39m# データフレームの結合（ジョイン）\u001b[39;00m\n\u001b[0;32m---> 28\u001b[0m target_df \u001b[39m=\u001b[39m pd\u001b[39m.\u001b[39;49mmerge(target_df, m_store, on\u001b[39m=\u001b[39;49m\u001b[39m\"\u001b[39;49m\u001b[39mstore_id\u001b[39;49m\u001b[39m\"\u001b[39;49m, how\u001b[39m=\u001b[39;49m\u001b[39m\"\u001b[39;49m\u001b[39mleft\u001b[39;49m\u001b[39m\"\u001b[39;49m)\n\u001b[1;32m     29\u001b[0m target_df \u001b[39m=\u001b[39m pd\u001b[39m.\u001b[39mmerge(target_df, m_area, on\u001b[39m=\u001b[39m\u001b[39m\"\u001b[39m\u001b[39marea_cd\u001b[39m\u001b[39m\"\u001b[39m, how\u001b[39m=\u001b[39m\u001b[39m\"\u001b[39m\u001b[39mleft\u001b[39m\u001b[39m\"\u001b[39m)\n\u001b[1;32m     31\u001b[0m \u001b[39m# マスタデータにないコードに対応した文字列の設定\u001b[39;00m\n\u001b[1;32m     32\u001b[0m \u001b[39m# [\"takeout_name\"]の追加\u001b[39;00m\n",
      "File \u001b[0;32m~/Library/CloudStorage/OneDrive-個人用/Learn/Python/python-practical-machine-learning-system-100knocks/venv/lib/python3.9/site-packages/pandas/core/reshape/merge.py:107\u001b[0m, in \u001b[0;36mmerge\u001b[0;34m(left, right, how, on, left_on, right_on, left_index, right_index, sort, suffixes, copy, indicator, validate)\u001b[0m\n\u001b[1;32m     90\u001b[0m \u001b[39m@Substitution\u001b[39m(\u001b[39m\"\u001b[39m\u001b[39m\\n\u001b[39;00m\u001b[39mleft : DataFrame or named Series\u001b[39m\u001b[39m\"\u001b[39m)\n\u001b[1;32m     91\u001b[0m \u001b[39m@Appender\u001b[39m(_merge_doc, indents\u001b[39m=\u001b[39m\u001b[39m0\u001b[39m)\n\u001b[1;32m     92\u001b[0m \u001b[39mdef\u001b[39;00m \u001b[39mmerge\u001b[39m(\n\u001b[0;32m   (...)\u001b[0m\n\u001b[1;32m    105\u001b[0m     validate: \u001b[39mstr\u001b[39m \u001b[39m|\u001b[39m \u001b[39mNone\u001b[39;00m \u001b[39m=\u001b[39m \u001b[39mNone\u001b[39;00m,\n\u001b[1;32m    106\u001b[0m ) \u001b[39m-\u001b[39m\u001b[39m>\u001b[39m DataFrame:\n\u001b[0;32m--> 107\u001b[0m     op \u001b[39m=\u001b[39m _MergeOperation(\n\u001b[1;32m    108\u001b[0m         left,\n\u001b[1;32m    109\u001b[0m         right,\n\u001b[1;32m    110\u001b[0m         how\u001b[39m=\u001b[39;49mhow,\n\u001b[1;32m    111\u001b[0m         on\u001b[39m=\u001b[39;49mon,\n\u001b[1;32m    112\u001b[0m         left_on\u001b[39m=\u001b[39;49mleft_on,\n\u001b[1;32m    113\u001b[0m         right_on\u001b[39m=\u001b[39;49mright_on,\n\u001b[1;32m    114\u001b[0m         left_index\u001b[39m=\u001b[39;49mleft_index,\n\u001b[1;32m    115\u001b[0m         right_index\u001b[39m=\u001b[39;49mright_index,\n\u001b[1;32m    116\u001b[0m         sort\u001b[39m=\u001b[39;49msort,\n\u001b[1;32m    117\u001b[0m         suffixes\u001b[39m=\u001b[39;49msuffixes,\n\u001b[1;32m    118\u001b[0m         copy\u001b[39m=\u001b[39;49mcopy,\n\u001b[1;32m    119\u001b[0m         indicator\u001b[39m=\u001b[39;49mindicator,\n\u001b[1;32m    120\u001b[0m         validate\u001b[39m=\u001b[39;49mvalidate,\n\u001b[1;32m    121\u001b[0m     )\n\u001b[1;32m    122\u001b[0m     \u001b[39mreturn\u001b[39;00m op\u001b[39m.\u001b[39mget_result()\n",
      "File \u001b[0;32m~/Library/CloudStorage/OneDrive-個人用/Learn/Python/python-practical-machine-learning-system-100knocks/venv/lib/python3.9/site-packages/pandas/core/reshape/merge.py:700\u001b[0m, in \u001b[0;36m_MergeOperation.__init__\u001b[0;34m(self, left, right, how, on, left_on, right_on, axis, left_index, right_index, sort, suffixes, copy, indicator, validate)\u001b[0m\n\u001b[1;32m    693\u001b[0m \u001b[39mself\u001b[39m\u001b[39m.\u001b[39m_cross \u001b[39m=\u001b[39m cross_col\n\u001b[1;32m    695\u001b[0m \u001b[39m# note this function has side effects\u001b[39;00m\n\u001b[1;32m    696\u001b[0m (\n\u001b[1;32m    697\u001b[0m     \u001b[39mself\u001b[39m\u001b[39m.\u001b[39mleft_join_keys,\n\u001b[1;32m    698\u001b[0m     \u001b[39mself\u001b[39m\u001b[39m.\u001b[39mright_join_keys,\n\u001b[1;32m    699\u001b[0m     \u001b[39mself\u001b[39m\u001b[39m.\u001b[39mjoin_names,\n\u001b[0;32m--> 700\u001b[0m ) \u001b[39m=\u001b[39m \u001b[39mself\u001b[39;49m\u001b[39m.\u001b[39;49m_get_merge_keys()\n\u001b[1;32m    702\u001b[0m \u001b[39m# validate the merge keys dtypes. We may need to coerce\u001b[39;00m\n\u001b[1;32m    703\u001b[0m \u001b[39m# to avoid incompatible dtypes\u001b[39;00m\n\u001b[1;32m    704\u001b[0m \u001b[39mself\u001b[39m\u001b[39m.\u001b[39m_maybe_coerce_merge_keys()\n",
      "File \u001b[0;32m~/Library/CloudStorage/OneDrive-個人用/Learn/Python/python-practical-machine-learning-system-100knocks/venv/lib/python3.9/site-packages/pandas/core/reshape/merge.py:1097\u001b[0m, in \u001b[0;36m_MergeOperation._get_merge_keys\u001b[0;34m(self)\u001b[0m\n\u001b[1;32m   1095\u001b[0m \u001b[39mif\u001b[39;00m \u001b[39mnot\u001b[39;00m is_rkey(rk):\n\u001b[1;32m   1096\u001b[0m     \u001b[39mif\u001b[39;00m rk \u001b[39mis\u001b[39;00m \u001b[39mnot\u001b[39;00m \u001b[39mNone\u001b[39;00m:\n\u001b[0;32m-> 1097\u001b[0m         right_keys\u001b[39m.\u001b[39mappend(right\u001b[39m.\u001b[39;49m_get_label_or_level_values(rk))\n\u001b[1;32m   1098\u001b[0m     \u001b[39melse\u001b[39;00m:\n\u001b[1;32m   1099\u001b[0m         \u001b[39m# work-around for merge_asof(right_index=True)\u001b[39;00m\n\u001b[1;32m   1100\u001b[0m         right_keys\u001b[39m.\u001b[39mappend(right\u001b[39m.\u001b[39mindex)\n",
      "File \u001b[0;32m~/Library/CloudStorage/OneDrive-個人用/Learn/Python/python-practical-machine-learning-system-100knocks/venv/lib/python3.9/site-packages/pandas/core/generic.py:1840\u001b[0m, in \u001b[0;36mNDFrame._get_label_or_level_values\u001b[0;34m(self, key, axis)\u001b[0m\n\u001b[1;32m   1838\u001b[0m     values \u001b[39m=\u001b[39m \u001b[39mself\u001b[39m\u001b[39m.\u001b[39maxes[axis]\u001b[39m.\u001b[39mget_level_values(key)\u001b[39m.\u001b[39m_values\n\u001b[1;32m   1839\u001b[0m \u001b[39melse\u001b[39;00m:\n\u001b[0;32m-> 1840\u001b[0m     \u001b[39mraise\u001b[39;00m \u001b[39mKeyError\u001b[39;00m(key)\n\u001b[1;32m   1842\u001b[0m \u001b[39m# Check for duplicates\u001b[39;00m\n\u001b[1;32m   1843\u001b[0m \u001b[39mif\u001b[39;00m values\u001b[39m.\u001b[39mndim \u001b[39m>\u001b[39m \u001b[39m1\u001b[39m:\n",
      "\u001b[0;31mKeyError\u001b[0m: 'store_id'"
     ]
    }
   ],
   "source": [
    "# 画面から対象年月を指定して処理を実行する\n",
    "\n",
    "def order_by_date(val):\n",
    "    \"\"\"\n",
    "    \"\"\"\n",
    "    clear_output()\n",
    "    display(date_picker)\n",
    "\n",
    "    df_array = []\n",
    "\n",
    "    print(\"データ確認、データ準備開始・・・\")\n",
    "\n",
    "    date_str = str(val[\"new\"])\n",
    "    date_df = datetime.datetime.strptime(date_str, \"%Y-%m-%d\")\n",
    "    target_year_month = date_df.strftime(\"%Y%m\")\n",
    "\n",
    "    # フォルダの動的作成\n",
    "    target_output_dir = MakeFolder.make_active_folder(output_dir, target_year_month)\n",
    "\n",
    "    # 選択された基準月のデータ確認\n",
    "    target_file = \"tbl_order_\" + target_year_month + \".csv\"\n",
    "    if os.path.exists(os.path.join(input_dir, target_file)) == False:\n",
    "        print(f\"{target_file} が存在しません。\")\n",
    "        return\n",
    "    else:\n",
    "        # データの読み込み\n",
    "        df = pd.read_csv(os.path.join(input_dir, target_file))\n",
    "        df = ini.init_tran_df(df, m_area, m_area)\n",
    "        df_array.append(df)\n",
    "\n",
    "    # 選択された基準月の1ヶ月前があるか確認する\n",
    "    target_year_month_old = str(int(target_year_month) - 1)\n",
    "    target_file = \"tbl_order_\" + target_year_month_old + \".csv\"\n",
    "    if os.path.exists(os.path.join(input_dir, target_file)) == True:\n",
    "        # データがある場合\n",
    "        df = pd.read_csv(os.path.join(input_dir, target_file))\n",
    "        df = ini.init_tran_df(df, m_area, m_area)\n",
    "        df_array.append(df)\n",
    "\n",
    "    print(\"データ準備完了、レポーティング出力開始・・・\")\n",
    "\n",
    "    # 本部向けレポートR2を呼ぶ\n",
    "    Reporting.make_report_headquarters_r2(df_array, m_store, target_output_dir)\n",
    "\n",
    "    print(\"管理レポート出力完了\")\n",
    "    print(\"各店舗のレポート出力開始・・・\")\n",
    "\n",
    "    # 各店舗向けレポート（全店舗出力）\n",
    "    for store_id in m_store.loc[m_store[\"store_id\"] != 999][\"store_id\"]:\n",
    "        # narrow_areaフォルダの作成\n",
    "        area_cd = m_store.loc[m_store[\"store_id\"] == store_id][\"area_cd\"]\n",
    "        area_name = m_area.loc[m_area[\"area_cd\"] == area_cd.values[0]][\"narrow_area\"].values[0]\n",
    "        target_store_output_dir = os.path.join(target_output_dir, area_name)\n",
    "        os.makedirs(target_store_output_dir, exist_ok=True)\n",
    "        Reporting.make_report_store_r2(df_array, m_store, store_id, target_store_output_dir)\n",
    "\n",
    "    print(\"全店舗のリポート出力完了\")\n",
    "\n",
    "\n",
    "date_picker = DatePicker(value=datetime.datetime(2020, 4, 1))\n",
    "date_picker.observe(order_by_date, names=\"value\")\n",
    "print(\"データを0_inputフォルダにコピーした後、基準月を選択してください。\")\n",
    "display(date_picker)\n"
   ]
  },
  {
   "cell_type": "code",
   "execution_count": null,
   "metadata": {},
   "outputs": [],
   "source": [
    "\n"
   ]
  }
 ],
 "metadata": {
  "kernelspec": {
   "display_name": "Python 3.9.13 ('venv': venv)",
   "language": "python",
   "name": "python3"
  },
  "language_info": {
   "codemirror_mode": {
    "name": "ipython",
    "version": 3
   },
   "file_extension": ".py",
   "mimetype": "text/x-python",
   "name": "python",
   "nbconvert_exporter": "python",
   "pygments_lexer": "ipython3",
   "version": "3.9.13"
  },
  "orig_nbformat": 4,
  "vscode": {
   "interpreter": {
    "hash": "e43aefcd945bf2df063e23bad89b41d61ef052b435bb9d3fcd8d202fdfc43e8b"
   }
  }
 },
 "nbformat": 4,
 "nbformat_minor": 2
}
