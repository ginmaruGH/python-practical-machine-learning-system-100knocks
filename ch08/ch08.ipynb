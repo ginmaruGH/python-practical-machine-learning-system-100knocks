{
 "cells": [
  {
   "cell_type": "code",
   "execution_count": 1,
   "metadata": {},
   "outputs": [],
   "source": [
    "# 共通で利用するライブラリ\n",
    "import glob\n",
    "import os\n",
    "import datetime\n",
    "import pickle\n",
    "from natsort import natsorted\n",
    "from IPython.display import display\n",
    "import matplotlib.pyplot as plt\n",
    "import pandas as pd\n",
    "import numpy as np\n",
    "import warnings\n",
    "\n",
    "# warnings.filterwarnings('ignore')\n",
    "np.set_printoptions(suppress=True, precision=3)\n",
    "pd.options.display.float_format = \"{:.4f}\".format\n",
    "pd.set_option(\"display.max_columns\", None)\n",
    "plt.style.use(\"seaborn\")\n",
    "plt.rcParams[\"font.size\"] = 14\n",
    "plt.rcParams[\"font.family\"] = \"IPAexGothic\"\n",
    "%matplotlib inline\n",
    "%load_ext autoreload\n"
   ]
  },
  {
   "cell_type": "markdown",
   "metadata": {},
   "source": [
    "## Ch.08 構築した機械学習モデルで新規データを予測する\n",
    "\n",
    "- 2020年3月の注文データを新規データに見立てて新規データ予測を行う\n",
    "- データ一覧\n",
    "  - m_area.csv\n",
    "  - m_store.csv\n",
    "  - tbl_order_202003.csv\n",
    "  - model_y_weekday_Gradient_Boosting.pickle\n",
    "  - model_y_weekend_Gradient_Boosting.pickle\n",
    "  - X_cols.csv"
   ]
  },
  {
   "cell_type": "markdown",
   "metadata": {},
   "source": [
    "### Knock71: フォルダを生成してデータを読み込みの準備をする"
   ]
  },
  {
   "cell_type": "markdown",
   "metadata": {},
   "source": [
    "- フォルダ構成\n",
    "\n",
    "```bash\n",
    "ch08\n",
    "├── ch08.ipynb\n",
    "├── source\n",
    "└── data\n",
    "│   ├── 00_input\n",
    "│   │   └── tbl_202003.csv\n",
    "│   ├── 01_output\n",
    "│   └── 99_master\n",
    "│       └── m_area.csv\n",
    "└── models\n",
    "\n",
    "```"
   ]
  },
  {
   "cell_type": "code",
   "execution_count": 3,
   "metadata": {},
   "outputs": [],
   "source": [
    "# フォルダ作成\n",
    "\n",
    "data_dir = \"data\"\n",
    "input_dir = os.path.join(data_dir, \"00_input\")\n",
    "output_dir = os.path.join(data_dir, \"01_output\")\n",
    "master_dir = os.path.join(data_dir, \"99_master\")\n",
    "model_dir = \"models\"\n",
    "\n",
    "os.makedirs(input_dir, exist_ok=True)\n",
    "os.makedirs(output_dir, exist_ok=True)\n",
    "os.makedirs(master_dir, exist_ok=True)\n",
    "os.makedirs(model_dir, exist_ok=True)"
   ]
  },
  {
   "cell_type": "markdown",
   "metadata": {},
   "source": [
    "### Knock72: 予測したい新規データを読み込む"
   ]
  },
  {
   "cell_type": "code",
   "execution_count": 4,
   "metadata": {},
   "outputs": [],
   "source": [
    "# マスタデータの読み込み\n",
    "\n",
    "m_area_file = \"m_area.csv\"\n",
    "m_store_file = \"m_store.csv\"\n",
    "m_area = pd.read_csv(os.path.join(master_dir, m_area_file))\n",
    "m_store = pd.read_csv(os.path.join(master_dir, m_store_file))"
   ]
  },
  {
   "cell_type": "code",
   "execution_count": 7,
   "metadata": {},
   "outputs": [
    {
     "name": "stdout",
     "output_type": "stream",
     "text": [
      "年月が一致しました。\n"
     ]
    }
   ],
   "source": [
    "# データチェック機構を用いた新規データの読み込み\n",
    "\n",
    "target_ym = \"202003\"\n",
    "target_file = \"tbl_order_\" + target_ym + \".csv\"\n",
    "target_data = pd.read_csv(os.path.join(input_dir, target_file))\n",
    "\n",
    "max_date = pd.to_datetime(target_data[\"order_accept_date\"]).max()\n",
    "min_date = pd.to_datetime(target_data[\"order_accept_date\"]).min()\n",
    "max_str_date = max_date.strftime(\"%Y%m\")\n",
    "min_str_date = min_date.strftime(\"%Y%m\")\n",
    "\n",
    "# 年月チェック\n",
    "if (target_ym == min_str_date) and (target_ym == max_str_date):\n",
    "    print(\"年月が一致しました。\")\n",
    "else:\n",
    "    print(\"年月が一致しません。\")\n"
   ]
  },
  {
   "cell_type": "markdown",
   "metadata": {},
   "source": [
    "### Knock73: 新規データを店舗別で集計する"
   ]
  },
  {
   "cell_type": "code",
   "execution_count": 8,
   "metadata": {},
   "outputs": [],
   "source": [
    "# 店舗別集計を行うための関数\n",
    "\n",
    "def calc_delta(t):\n",
    "    \"\"\"\n",
    "    経過時間を計算する\n",
    "    戻り値は単位（分）\n",
    "    \"\"\"\n",
    "    t1, t2 = t\n",
    "    delta = t2 - t1\n",
    "    return delta.total_seconds() / 60\n",
    "\n",
    "# 1か月分データから店舗別に集計する\n",
    "def data_processing(order_data, m_store, m_area):\n",
    "    \"\"\"\n",
    "    データの加工関数\n",
    "    店舗ごとに集計する\n",
    "    \"\"\"\n",
    "\n",
    "    # 店舗No.999の除外\n",
    "    order_data = order_data.loc[order_data[\"store_id\"] != 999]\n",
    "\n",
    "    # オーダーデータにマスタデータを結合\n",
    "    order_data = pd.merge(order_data, m_store, on=\"store_id\", how=\"left\")\n",
    "    order_data = pd.merge(order_data, m_area, on=\"area_cd\", how=\"left\")\n",
    "\n",
    "    # テイクアウト名の追加\n",
    "    order_data.loc[order_data[\"takeout_flag\"] == 0, \"takeout_name\"] = \"デリバリー\"\n",
    "    order_data.loc[order_data[\"takeout_flag\"] == 1, \"takeout_name\"] = \"お持ち帰り\"\n",
    "\n",
    "    # ステイタス名の追加\n",
    "    order_data.loc[order_data[\"status\"] == 0, \"status_name\"] = \"受付\"\n",
    "    order_data.loc[order_data[\"status\"] == 1, \"status_name\"] = \"お支払済\"\n",
    "    order_data.loc[order_data[\"status\"] == 2, \"status_name\"] = \"お渡し済\"\n",
    "    order_data.loc[order_data[\"status\"] == 9, \"status_name\"] = \"キャンセル\"\n",
    "\n",
    "    # ピザ提供までの時間\n",
    "    order_data.loc[:, \"order_accept_datetime\"] = pd.to_datetime(\n",
    "        order_data[\"order_accept_date\"])\n",
    "    order_data.loc[:, \"delivered_datetime\"] = pd.to_datetime(\n",
    "        order_data[\"delivered_date\"])\n",
    "    order_data.loc[:, \"delta\"] = order_data[[\n",
    "        \"order_accept_datetime\", \"delivered_datetime\"]].apply(calc_delta, axis=1)\n",
    "\n",
    "    # ピザが注文された時間帯を追加\n",
    "    order_data.loc[:, \"order_accept_hour\"] = order_data[\"order_accept_datetime\"].dt.hour\n",
    "    order_data.loc[:, \"order_accept_weekday\"] = order_data[\"order_accept_datetime\"].dt.weekday\n",
    "    # 平日/休日を追加\n",
    "    order_data.loc[order_data[\"order_accept_weekday\"] >= 5, \"weekday_info\"] = \"休日\"\n",
    "    order_data.loc[order_data[\"order_accept_weekday\"] < 5, \"weekday_info\"] = \"平日\"\n",
    "\n",
    "    # 店舗単位の集計\n",
    "    # 総オーダー数\n",
    "    store_data = order_data.groupby([\"store_name\"]).count()[[\"order_id\"]]\n",
    "    # 完了しているオーダー数\n",
    "    store_f = order_data.loc[\n",
    "        (order_data[\"status_name\"] == \"お渡し済\") | (order_data[\"status\"] == \"お支払済\")\n",
    "    ].groupby([\"store_name\"]).count()[[\"order_id\"]]\n",
    "    # キャンセル数\n",
    "    store_c = order_data.loc[\n",
    "        order_data[\"status_name\"] == \"キャンセル\"\n",
    "    ].groupby([\"store_name\"]).count()[[\"order_id\"]]\n",
    "    # デリバリー数\n",
    "    store_d = order_data.loc[\n",
    "        order_data[\"takeout_name\"] == \"デリバリー\"\n",
    "    ].groupby([\"store_name\"]).count()[[\"order_id\"]]\n",
    "    # お持ち帰り数\n",
    "    store_t = order_data.loc[\n",
    "        order_data[\"takeout_name\"] == \"お持ち帰り\"\n",
    "    ].groupby([\"store_name\"]).count()[[\"order_id\"]]\n",
    "    # 平日オーダー数\n",
    "    store_weekday = order_data.loc[\n",
    "        order_data[\"weekday_info\"] == \"平日\"\n",
    "    ].groupby([\"store_name\"]).count()[[\"order_id\"]]\n",
    "    # 休日オーダー数\n",
    "    store_weekend = order_data.loc[\n",
    "        order_data[\"weekday_info\"] == \"休日\"\n",
    "    ].groupby([\"store_name\"]).count()[[\"order_id\"]]\n",
    "\n",
    "    # 時間帯別オーダー数の集計\n",
    "    times = order_data[\"order_accept_hour\"].unique()\n",
    "    store_time = []\n",
    "    for time in times:\n",
    "        time_tmp = order_data.loc[\n",
    "            order_data[\"order_accept_hour\"] == time\n",
    "        ].groupby([\"store_name\"]).count()[[\"order_id\"]]\n",
    "        time_tmp.columns = [f\"order_time_{time}\"]\n",
    "        store_time.append(time_tmp)\n",
    "    store_time = pd.concat(store_time, axis=1)\n",
    "\n",
    "    # ピザ提供までの時間の平均時間\n",
    "    store_delta = order_data.loc[\n",
    "        order_data[\"status_name\"] != \"キャンセル\"\n",
    "    ].groupby([\"store_name\"]).mean()[[\"delta\"]]\n",
    "\n",
    "    # 各データの項目設定\n",
    "    store_data.columns = [\"order\"]\n",
    "    store_f.columns = [\"order_fin\"]\n",
    "    store_c.columns = [\"order_cancel\"]\n",
    "    store_d.columns = [\"order_delivery\"]\n",
    "    store_t.columns = [\"order_takeout\"]\n",
    "    store_weekday.columns = [\"order_weekday\"]\n",
    "    store_weekend.columns = [\"order_weekend\"]\n",
    "    store_delta.columns = [\"delta_avg\"]\n",
    "\n",
    "    # 各データを結合\n",
    "    store_data = pd.concat([\n",
    "        store_data, store_f, store_c, store_d, store_t,\n",
    "        store_weekday, store_weekend, store_time, store_delta\n",
    "    ], axis=1)\n",
    "\n",
    "    return store_data\n"
   ]
  },
  {
   "cell_type": "code",
   "execution_count": 10,
   "metadata": {},
   "outputs": [],
   "source": [
    "# 店舗別集計関数の実行\n",
    "\n",
    "store_data = data_processing(target_data, m_store, m_area)\n",
    "store_data.reset_index(drop=False, inplace=True)\n",
    "actual_data = store_data.copy()"
   ]
  },
  {
   "cell_type": "markdown",
   "metadata": {},
   "source": []
  }
 ],
 "metadata": {
  "kernelspec": {
   "display_name": "Python 3.9.13 ('venv': venv)",
   "language": "python",
   "name": "python3"
  },
  "language_info": {
   "codemirror_mode": {
    "name": "ipython",
    "version": 3
   },
   "file_extension": ".py",
   "mimetype": "text/x-python",
   "name": "python",
   "nbconvert_exporter": "python",
   "pygments_lexer": "ipython3",
   "version": "3.9.13"
  },
  "orig_nbformat": 4,
  "vscode": {
   "interpreter": {
    "hash": "e43aefcd945bf2df063e23bad89b41d61ef052b435bb9d3fcd8d202fdfc43e8b"
   }
  }
 },
 "nbformat": 4,
 "nbformat_minor": 2
}
